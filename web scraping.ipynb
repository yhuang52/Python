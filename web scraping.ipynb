{
 "cells": [
  {
   "cell_type": "code",
   "execution_count": 35,
   "metadata": {},
   "outputs": [],
   "source": [
    "import bs4\n",
    "from urllib.request import urlopen as uReq  \n",
    "from bs4 import BeautifulSoup as soup\n",
    "import re\n",
    "\n",
    "my_url = 'https://www.newegg.com/Video-Cards-Video-Devices/Category/ID-38?Tpk=graphics%20card' \n",
    "uClient = uReq(my_url)\n",
    "page_html = uClient.read()\n",
    "uClient.close()\n",
    "#openning up connection, grabbing the page\n",
    "page_soup = soup(page_html,\"html.parser\")\n",
    "# page_soup.h1\n",
    "# page_soup.p\n",
    "page_soup.body.span\n",
    "#grabs each products\n",
    "containers = page_soup.findAll(\"div\",{\"class\":\"item-container\"})\n",
    "container = containers[0]\n",
    "container\n",
    "# container.a\n",
    "# container.div\n"
   ]
  },
  {
   "cell_type": "code",
   "execution_count": 54,
   "metadata": {},
   "outputs": [],
   "source": [
    "info = page_soup.find_all(\"a\", {\"class\": \"item-title\"})[0]"
   ]
  },
  {
   "cell_type": "code",
   "execution_count": 67,
   "metadata": {},
   "outputs": [
    {
     "name": "stdout",
     "output_type": "stream",
     "text": [
      "EVGA GeForce RTX 2080 BLACK EDITION GAMING, 08G-P4-2081-KR, 8GB GDDR6, Dual HDB Fans & RGB LED\n",
      "GIGABYTE GeForce RTX 2070 WINDFORCE 8G Graphics Card, 3 x WINDFORCE Fans, 8GB 256-Bit GDDR6, GV-N2070WF3-8GC Video Card\n",
      "MSI GeForce RTX 2060 DirectX 12 RTX 2060 VENTUS 6G OC Video Card\n",
      "EVGA GeForce GTX 1660 XC Ultra GAMING, 06G-P4-1167-KR, 6GB GDDR5, HDB Fan\n",
      "ASUS Turbo GeForce GTX 1070 TURBO-GTX1070-8G Video Card\n",
      "GIGABYTE Radeon RX Vega 56 DirectX 12 GV-RXVEGA56GAMING OC-8GD Video Card\n",
      "MSI Radeon RX 570 DirectX 12 RX 570 ARMOR MK2 8G OC Video Card\n",
      "XFX Radeon RX 580 GTS Black Edition 1405 MHz OC+, 8GB 256-bit GDDR5, DX12 VR Ready, Double Dissipation, Dual BIOS, PCI-E AMD Graphics Card (RX-580P828D6)\n",
      "ZOTAC GAMING GeForce RTX 2060 Twin Fan 6GB GDDR6 192-bit Gaming Graphics Card, Super Compact, IceStorm 2.0, ZT-T20600F-10M\n",
      "ASRock Phantom Gaming X Radeon RX 590 DirectX 12 RX590 8G OC Video Card\n",
      "ZOTAC GAMING GeForce GTX 1660 6GB GDDR5 192-bit Gaming Graphics Card, Super Compact, ZT-T16600F-10L\n"
     ]
    }
   ],
   "source": [
    "for info in page_soup.find_all(\"a\", {\"class\": \"item-title\"}):\n",
    "    product_name = info.text\n",
    "    print(product_name)"
   ]
  },
  {
   "cell_type": "code",
   "execution_count": 91,
   "metadata": {},
   "outputs": [
    {
     "name": "stdout",
     "output_type": "stream",
     "text": [
      "1449.99\n",
      "729.99\n",
      "499.99\n",
      "359.99\n",
      "239.99\n",
      "319.99\n",
      "309.99\n",
      "189.99\n",
      "189.99\n",
      "349.99\n",
      "219.99\n",
      "219.99\n"
     ]
    }
   ],
   "source": [
    "for info in page_soup.find_all(\"li\", class_=\"price-current\"):\n",
    "    integer = info.strong.text\n",
    "    decimal = info.sup.text\n",
    "    integer = \"\".join(re.findall(\"\\d+\", integer))\n",
    "    decimal = \"\".join(re.findall(\"\\d+\", decimal))\n",
    "    price = float(integer + \".\" + decimal)\n",
    "    print(price)"
   ]
  },
  {
   "cell_type": "code",
   "execution_count": 73,
   "metadata": {},
   "outputs": [],
   "source": []
  },
  {
   "cell_type": "code",
   "execution_count": 77,
   "metadata": {},
   "outputs": [
    {
     "data": {
      "text/plain": [
       "['219']"
      ]
     },
     "execution_count": 77,
     "metadata": {},
     "output_type": "execute_result"
    }
   ],
   "source": [
    "re.findall(\"\\d+\", integer)"
   ]
  },
  {
   "cell_type": "code",
   "execution_count": 90,
   "metadata": {},
   "outputs": [
    {
     "data": {
      "text/plain": [
       "<function str.join(iterable, /)>"
      ]
     },
     "execution_count": 90,
     "metadata": {},
     "output_type": "execute_result"
    }
   ],
   "source": []
  },
  {
   "cell_type": "markdown",
   "metadata": {},
   "source": [
    "# douban"
   ]
  },
  {
   "cell_type": "code",
   "execution_count": 122,
   "metadata": {},
   "outputs": [],
   "source": [
    "import requests\n",
    "import urllib\n",
    "import json\n",
    "s = requests.Session()\n",
    "\n",
    "\n",
    "params = {\"page_limit\": 20,\n",
    "          \"page_start\": 20,\n",
    "          \"type\": \"movie\",\n",
    "          \"sort\": \"recommend\",\n",
    "          \"tag\": \"热门\"}\n",
    "# ? 之后是参数\n",
    "douban_url = \"https://movie.douban.com/j/search_subjects?\" + urllib.parse.urlencode(params)"
   ]
  },
  {
   "cell_type": "code",
   "execution_count": 123,
   "metadata": {},
   "outputs": [],
   "source": [
    "headers = {\"Referer\": \"https://movie.douban.com/explore\",\n",
    "           \"Host\": \"movie.douban.com\",\n",
    "           \"User-Agent\": \"Mozilla/5.0 (Windows NT 10.0; Win64; x64) AppleWebKit/537.36 (KHTML, like Gecko) Chrome/72.0.3626.121 Safari/537.36\",\n",
    "          }"
   ]
  },
  {
   "cell_type": "code",
   "execution_count": 124,
   "metadata": {},
   "outputs": [],
   "source": [
    "response = s.get(douban_url, headers=headers)\n",
    "content = response.content\n",
    "content_str = content.decode()\n",
    "info = json.loads(content_str)"
   ]
  },
  {
   "cell_type": "code",
   "execution_count": 134,
   "metadata": {},
   "outputs": [
    {
     "data": {
      "text/plain": [
       "{'rate': '8.1',\n",
       " 'cover_x': 1968,\n",
       " 'title': '复仇者联盟3：无限战争',\n",
       " 'url': 'https://movie.douban.com/subject/24773958/',\n",
       " 'playable': True,\n",
       " 'cover': 'https://img3.doubanio.com/view/photo/s_ratio_poster/public/p2517753454.jpg',\n",
       " 'id': '24773958',\n",
       " 'cover_y': 2756,\n",
       " 'is_new': False}"
      ]
     },
     "execution_count": 134,
     "metadata": {},
     "output_type": "execute_result"
    }
   ],
   "source": [
    "subject"
   ]
  },
  {
   "cell_type": "code",
   "execution_count": 125,
   "metadata": {},
   "outputs": [
    {
     "name": "stdout",
     "output_type": "stream",
     "text": [
      "无双 8.1\n",
      "迦百农 8.6\n",
      "我不是药神 9.0\n",
      "蚁人2：黄蜂女现身 7.3\n",
      "大黄蜂 7.1\n",
      "一个明星的诞生 7.1\n",
      "西虹市首富 6.5\n",
      "来电狂响 5.8\n",
      "影 7.2\n",
      "宠儿 7.4\n",
      "地球最后的夜晚 6.8\n",
      "罗马 8.1\n",
      "碟中谍6：全面瓦解 8.1\n",
      "邪不压正 7.0\n",
      "死侍2：我爱我家 7.3\n",
      "我想吃掉你的胰脏 6.8\n",
      "调音师 8.4\n",
      "摘金奇缘 6.1\n",
      "动物世界 7.2\n",
      "复仇者联盟3：无限战争 8.1\n"
     ]
    }
   ],
   "source": [
    "for subject in info['subjects']:\n",
    "    print(subject['title'], subject['rate'])"
   ]
  },
  {
   "cell_type": "code",
   "execution_count": 127,
   "metadata": {},
   "outputs": [],
   "source": [
    "short_reviews = s.get(\"https://movie.douban.com/subject/24773958/comments?sort=new_score&status=P\")"
   ]
  },
  {
   "cell_type": "code",
   "execution_count": 129,
   "metadata": {},
   "outputs": [],
   "source": [
    "content = short_reviews.content"
   ]
  },
  {
   "cell_type": "code",
   "execution_count": 131,
   "metadata": {},
   "outputs": [],
   "source": [
    "review_soup = soup(content)"
   ]
  },
  {
   "cell_type": "code",
   "execution_count": null,
   "metadata": {},
   "outputs": [],
   "source": []
  },
  {
   "cell_type": "code",
   "execution_count": 133,
   "metadata": {},
   "outputs": [
    {
     "name": "stdout",
     "output_type": "stream",
     "text": [
      "大家好，我是灭霸，我的手套被扣在海关了，急需要200元交罚款，如果你5月11愿意发红包给我，我保证在打响指时你会活下来。我代表我们泰坦星下发红头文件:赶在2019面之前务必要让全宇宙的人口降低一半，宇宙的人均GDP才能翻一番，实现又好又快发展。这是千年大计、宇宙大事！\n",
      "为什么不砍手？？？？？？？\n",
      "《复联3》讲的是一个猪队友顺风浪了一波，然后被团灭了的故事。呵呵，卡魔拉真倒霉，爸爸是个疯子，男朋友是个傻子。\n",
      "灭霸是一个有情怀的无产主义者，不惜牺牲此生最爱来整治这个混乱而拥挤不堪的宇宙，整治完了也不是要搞什么奴隶制自己当皇帝什么的，而是隐居深山老林看着夕阳感叹人生无常，说不定有空再种种菜养养鸡什么的。以随机的方式减去一半的人口也体现了其公平性和创新性，简直就是boss里面不可多得的楷模。\n",
      "混沌初开，宇宙出现了六颗象征尊贵身份的宝石，一旦集齐就有毁天灭地的能力。它们分别是QQ空间黄钻（心灵宝石）、QQ秀红钻（现实宝石）、QQ炫舞紫钻（力量宝石）、QQ游戏蓝钻（空间宝石）、QQ音乐绿钻（时间宝石）、QQ橙钻（灵魂宝石）。为了得到六大宝石，灭霸终于对马化腾，哦不，复联下手了。\n",
      "一顿操作猛如虎 一个指响秒变土\n",
      "Fxxking Amazing！你以为在看妇联3，发现原来在看银护3！你以为在看银护3，发现原来在看灭霸传！你以为只是发便当，原来他妈是团餐！漫威从电影第一刻就开始用心打破观众预设的期待，灭霸是目前漫威写的最好的反派，电影饱含深情，在妇联4上映前漫威粉要集体焦虑了\n",
      "两个福尔摩斯跑来纽约玩Cosplay不务正业，案子不用查了吗？\n",
      "《灭霸：后来我什么都有了，但是没有了我们》\n",
      "下一部：《复仇者联盟：逆转未来》\n",
      "洛基开局反野被拿一血，幻视下路送人头，雷神猥琐发育败方mvp，美队黑寡妇黑豹艰难保护我方水晶，冬兵战争猎鹰打支援，绯红守家，钢铁奇异小虫偷水晶失败被团灭，星爵演员，绿巨人开局心态崩溃了退出游戏\n",
      "韩国今天看完，无剧透：1：彩蛋只有字幕全部结束后的1个。2：非常震撼，刺激，过瘾，喝可乐的世界有，需要压惊，但吃爆米花的时间没有。3：漫威粉必看，非常燃。4：纸巾有的人会需要。5：反派人设非常到位，竟然有深度。6：进场前3小时别饮水。7：特效吊炸天。8：罗素兄弟太强。9：瑕不掩瑜。\n",
      "洛基卡魔拉星爵奇异博士绯红女巫其实都有机会阻止灭霸成为QQ钻皇，可生死抉择之时他们还是“自私”地将所爱之人的安危置于恪守原则拯救世界的重要性之上，他们的爱成为被利用的弱点。而灭霸截然相反，他并非绝情之人，但他个人的爱恨只能为理想让步，所以我居然觉得灭霸的人设是最复杂最带感的。\n",
      "我中途幻想的这片的结尾，是灭霸成功打响指，宇宙的一半开始毁灭，第一个消失的，就是灭霸自己\n",
      "日啊这哪是妇联3，分明就是灭霸传啊！二十多个超级英雄三条故事线，全部在给灭霸打牙祭。虫铁最可爱，锤哥真正帅，星爵搅屎棍，结局看不懂！加上彩蛋还是看不懂！（没错我是鸵鸟我不相信！我！不！相！信！）\n",
      "居然没有让Samuel Jackson说完Motherfucker就让他领饭盒了！！\n",
      "给三年后的自己，2015.5.15/ 2018.5.25来还愿，二脸懵逼的感觉，他们没死我不相信！！（宝宝63天时来看的电影，越看到电影结尾心里越长草😂）\n",
      "请大家想一想，古今中外，不论是《但丁密码》还是《血色星期一》获得了知识与力量的大反派们为什么最终目的都是随机消灭掉一半的人类，这给了我们什么启示？不婚不育就可以做自己人生的反派！\n",
      "大荧幕上曾经有这样一个传统，叫做“主角光环”。今日今时，感谢这一传统的消忘，以及反派的去脸谱化，将超英类型片带入新的维度与高度。本片可贵，乃Marvel破局之作。//两米高的幻视像小可怜一样，看得我好心动。//ps：片尾有一个预告彩蛋。\n",
      "所以说办公室恋情会坏事…本来都翻盘了的…\n"
     ]
    }
   ],
   "source": [
    "for short_review in review_soup.find_all(\"span\", class_=\"short\"):\n",
    "    print(short_review.text)"
   ]
  },
  {
   "cell_type": "code",
   "execution_count": null,
   "metadata": {},
   "outputs": [],
   "source": []
  }
 ],
 "metadata": {
  "kernelspec": {
   "display_name": "Python 3",
   "language": "python",
   "name": "python3"
  },
  "language_info": {
   "codemirror_mode": {
    "name": "ipython",
    "version": 3
   },
   "file_extension": ".py",
   "mimetype": "text/x-python",
   "name": "python",
   "nbconvert_exporter": "python",
   "pygments_lexer": "ipython3",
   "version": "3.7.1"
  }
 },
 "nbformat": 4,
 "nbformat_minor": 2
}
