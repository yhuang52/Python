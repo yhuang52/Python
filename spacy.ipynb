{
 "cells": [
  {
   "cell_type": "code",
   "execution_count": 11,
   "metadata": {},
   "outputs": [],
   "source": [
    "import spacy \n",
    "from spacy.matcher import PhraseMatcher\n",
    "import plac\n",
    "from pathlib import Path\n",
    "import random\n"
   ]
  },
  {
   "cell_type": "markdown",
   "metadata": {},
   "source": [
    "# PRACTICE"
   ]
  },
  {
   "cell_type": "code",
   "execution_count": 13,
   "metadata": {},
   "outputs": [
    {
     "name": "stdout",
     "output_type": "stream",
     "text": [
      "[('hello', 'INTJ'), ('-PRON-', 'PRON'), ('have', 'VERB'), ('good', 'ADJ'), ('news', 'NOUN')]\n"
     ]
    },
    {
     "data": {
      "text/plain": [
       "[('Josh', 'PERSON'), ('Pittsburgh', 'GPE')]"
      ]
     },
     "execution_count": 13,
     "metadata": {},
     "output_type": "execute_result"
    }
   ],
   "source": [
    "\n",
    "nlp = spacy.load('en')\n",
    "doc = nlp(\"Hello everyone, I've some good news to give you\")\n",
    "#_pos 词性\n",
    "# [x.is_pos for x in doc ]\n",
    "cleaned = [y for y in doc if not y.is_stop and y.pos_ != 'PUNCT']\n",
    "raw = [(x.lemma_,x.pos_) for x in cleaned]\n",
    "print(raw)\n",
    "\n",
    "to_analyze = ('Hello Code & Supply,' 'my name is Josh and tonight' 'we \\'re in Pittsburgh')\n",
    "doc = nlp(to_analyze)\n",
    "#Entity Name \n",
    "# doc.ents\n",
    "ents = [(x.text,x.label_) for x in doc.ents]\n",
    "ents"
   ]
  },
  {
   "cell_type": "markdown",
   "metadata": {},
   "source": [
    "# PROJECT"
   ]
  },
  {
   "cell_type": "code",
   "execution_count": 41,
   "metadata": {},
   "outputs": [
    {
     "data": {
      "text/plain": [
       "[(17539557946531887154, 0, 1),\n",
       " (17539557946531887154, 0, 2),\n",
       " (17539557946531887154, 1, 2)]"
      ]
     },
     "execution_count": 41,
     "metadata": {},
     "output_type": "execute_result"
    }
   ],
   "source": [
    "def offseter(lbl,doc,matchitem):\n",
    "        o_one = len(str(doc[0:matchitem[1]]))\n",
    "        subdoc = doc[matchitem[1]:matchitem[2]]\n",
    "        o_two = o_one + len(str(subdoc))\n",
    "        return (o_one,o_two,lbl)\n",
    "    \n",
    "nlp = spacy.load('en')\n",
    "if 'ner' not in nlp.pipe_names:\n",
    "    ner = nlp.create_pipe('ner')\n",
    "    nlp.add_pipe(ner)\n",
    "else:\n",
    "    ner = nlp.get_pipe('ner')\n",
    "# print(nlp.vocab) \n",
    "label = 'CIADIR'\n",
    "matcher = PhraseMatcher(nlp.vocab)\n",
    "# add match ID \"label\" with no callback and one pattern\n",
    "#matcher.add('HelloWorld', None, pattern)\n",
    "#第二个参数允许您传递一个可选的回调函数，以调用成功的匹配。\n",
    "for i in ['Gina Haspel','Gina','Haspel',]:\n",
    "    matcher.add(label, None, nlp(i))\n",
    "#如果你知道你想要匹配的内容的上下文，但是对于特定的token和它的字符非常少，那么通配符就显得很有用了。例如，假设您试图从数据中提取用户的用户名。您只知道它们被列为“用户名:{用户名}”。名称本身可能包含任何字符，但没有空格——因此您将知道它将作为一个token处理。\n",
    "#[{'ORTH': 'User'}, {'ORTH': 'name'}, {'ORTH': ':'}, {}]\n",
    "test = 'Gina Haspel was nomiated in 2018'\n",
    "one = nlp(test)\n",
    "matched = matcher(one)\n",
    "#返回match_id, start, end\n",
    "matched"
   ]
  },
  {
   "cell_type": "code",
   "execution_count": 48,
   "metadata": {},
   "outputs": [
    {
     "data": {
      "text/plain": [
       "[('Gina Haspel was nomiated in 2018',\n",
       "  {'entities': [(0, 1, 'CIADIR'), (0, 2, 'CIADIR'), (1, 2, 'CIADIR')]})]"
      ]
     },
     "execution_count": 48,
     "metadata": {},
     "output_type": "execute_result"
    }
   ],
   "source": [
    "res = []\n",
    "to_train_ents = []\n",
    "matches = matcher(one)\n",
    "res = [offseter(label,test,x) for x in matches]\n",
    "to_train_ents.append((test,dict(entities = res)))\n",
    "to_train_ents"
   ]
  },
  {
   "cell_type": "code",
   "execution_count": 50,
   "metadata": {},
   "outputs": [],
   "source": [
    "optimizer = nlp.begin_training()\n",
    "other_pipes = [pipe for pipe in nlp.pipe_names if pipe != 'ner']\n"
   ]
  },
  {
   "cell_type": "markdown",
   "metadata": {},
   "source": [
    "# SIMILAFRITY"
   ]
  },
  {
   "cell_type": "code",
   "execution_count": 25,
   "metadata": {},
   "outputs": [
    {
     "name": "stdout",
     "output_type": "stream",
     "text": [
      "Sebastian Thrun PERSON\n",
      "Google ORG\n",
      "2007 DATE\n",
      "American NORP\n",
      "Thrun PERSON\n",
      "Recode ORG\n",
      "earlier this week DATE\n",
      "my fries were super gross such disgusting fries 0.7139701182549687\n"
     ]
    }
   ],
   "source": [
    "# pip install spacy\n",
    "# python -m spacy download en_core_web_sm\n",
    "\n",
    "import spacy\n",
    "\n",
    "# Load English tokenizer, tagger, parser, NER and word vectors\n",
    "nlp = spacy.load(\"en_core_web_sm\")\n",
    "\n",
    "# Process whole documents\n",
    "text = (u\"When Sebastian Thrun started working on self-driving cars at \"\n",
    "        u\"Google in 2007, few people outside of the company took him \"\n",
    "        u\"seriously. “I can tell you very senior CEOs of major American \"\n",
    "        u\"car companies would shake my hand and turn away because I wasn’t \"\n",
    "        u\"worth talking to,” said Thrun, now the co-founder and CEO of \"\n",
    "        u\"online higher education startup Udacity, in an interview with \"\n",
    "        u\"Recode earlier this week.\")\n",
    "doc = nlp(text)\n",
    "\n",
    "# Find named entities, phrases and concepts\n",
    "for entity in doc.ents:\n",
    "    print(entity.text, entity.label_)\n",
    "\n",
    "# Determine semantic similarities\n",
    "doc1 = nlp(u\"my fries were super gross\")\n",
    "doc2 = nlp(u\"such disgusting fries\")\n",
    "similarity = doc1.similarity(doc2)\n",
    "print(doc1.text, doc2.text, similarity)"
   ]
  },
  {
   "cell_type": "code",
   "execution_count": null,
   "metadata": {},
   "outputs": [],
   "source": []
  }
 ],
 "metadata": {
  "kernelspec": {
   "display_name": "Python 3",
   "language": "python",
   "name": "python3"
  },
  "language_info": {
   "codemirror_mode": {
    "name": "ipython",
    "version": 3
   },
   "file_extension": ".py",
   "mimetype": "text/x-python",
   "name": "python",
   "nbconvert_exporter": "python",
   "pygments_lexer": "ipython3",
   "version": "3.7.1"
  }
 },
 "nbformat": 4,
 "nbformat_minor": 2
}
