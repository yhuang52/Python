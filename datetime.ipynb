{
 "cells": [
  {
   "cell_type": "code",
   "execution_count": 5,
   "metadata": {},
   "outputs": [
    {
     "data": {
      "text/plain": [
       "10"
      ]
     },
     "execution_count": 5,
     "metadata": {},
     "output_type": "execute_result"
    }
   ],
   "source": [
    "# timedelta\n",
    "from datetime import timedelta\n",
    "year = timedelta(days = 365)\n",
    "year\n",
    "ten_years = 10*year\n",
    "ten_years.days//365"
   ]
  },
  {
   "cell_type": "code",
   "execution_count": 2,
   "metadata": {},
   "outputs": [
    {
     "data": {
      "text/plain": [
       "59"
      ]
     },
     "execution_count": 2,
     "metadata": {},
     "output_type": "execute_result"
    }
   ],
   "source": [
    "import time\n",
    "from datetime import date\n",
    "today = date.today()\n",
    "today_another = date.fromtimestamp(time.time())\n",
    "today_another\n",
    "my_birthday = date(today.year,3,25)\n",
    "time_to_birthday = abs(my_birthday - today)\n",
    "time_to_birthday.days"
   ]
  },
  {
   "cell_type": "code",
   "execution_count": 10,
   "metadata": {},
   "outputs": [
    {
     "data": {
      "text/plain": [
       "'The day is 11, the month is March.'"
      ]
     },
     "execution_count": 10,
     "metadata": {},
     "output_type": "execute_result"
    }
   ],
   "source": [
    "d = date.fromordinal(730920)\n",
    "d\n",
    "t = d.timetuple()\n",
    "t\n",
    "ic = d.isocalendar()\n",
    "ic\n",
    "d.isoformat()\n",
    "d.strftime(\"%d/%m/%y\")\n",
    "d.strftime(\"%A%d.%B%Y\")\n",
    "'The {1} is {0:%d}, the {2} is {0:%B}.'.format(d,\"day\",\"month\")"
   ]
  },
  {
   "cell_type": "code",
   "execution_count": 64,
   "metadata": {},
   "outputs": [
    {
     "data": {
      "text/plain": [
       "datetime.timedelta(0)"
      ]
     },
     "execution_count": 64,
     "metadata": {},
     "output_type": "execute_result"
    }
   ],
   "source": [
    "from datetime import datetime, date, time\n",
    "d = date(2019,1,25)\n",
    "d\n",
    "t = time(12,30)\n",
    "t\n",
    "com = datetime.combine(d,t)\n",
    "com\n",
    "datetime.utcnow()\n",
    "dt = datetime.strptime(\"11/21/19 12:10\",\"%m/%d/%y %H:%M\")\n",
    "dt\n",
    "tt = dt.timetuple()\n",
    "# for it in tt:\n",
    "#     print(it)\n",
    "ic = dt.isocalendar()#year,week,weekday\n",
    "dt.strftime(\"%A,%d.%B %Y %H:%M%p\")\n",
    "\"The {1} is {0:%d}\".format(dt,\"day\")\n",
    "\n",
    "from datetime import timedelta, datetime, tzinfo\n",
    "class GMT1(tzinfo):\n",
    "    def utcoffset(self,dt):\n",
    "        return timedelta(hours = 1) + self.dst(dt)\n",
    "    def dst(self,dt):\n",
    "        #DST(daylight saving time) starts last Sunday in March\n",
    "        d = datetime(dt.year,4,1)\n",
    "        #find last Sunday\n",
    "        self.dston = d - timedelta(days = d.weekday() + 1)\n",
    "        d = datetime(dt.year,11,1)\n",
    "        #ends last Sunday in Oct\n",
    "        self.dstoff = d - timedelta(days = d.weekday() + 1)\n",
    "        if self.dston <= dt.replace(tzinfo = None) < self.dstoff:\n",
    "            return timedelta(hours = 1)#如果源时区的时间在dst中，则认为是dst\n",
    "        else:\n",
    "            return timedelta(0)\n",
    "        def tzname(self,dt):\n",
    "            return \"GMT +1\"\n",
    "class GMT2(tzinfo):\n",
    "    def utcoffset(self, dt):\n",
    "        return timedelta(hours=2) + self.dst(dt)\n",
    "    def dst(self, dt):\n",
    "        d = datetime(dt.year, 4, 1)\n",
    "        self.dston = d - timedelta(days=d.weekday() + 1)\n",
    "        d = datetime(dt.year, 11, 1)\n",
    "        self.dstoff = d - timedelta(days=d.weekday() + 1)\n",
    "        if self.dston <=  dt.replace(tzinfo=None) < self.dstoff:\n",
    "            return timedelta(hours=1)\n",
    "        else:\n",
    "            return timedelta(0)\n",
    "    def tzname(self,dt):\n",
    "         return \"GMT +2\"       \n",
    "\n",
    "gmt = GMT1()\n",
    "gmt2 = GMT2()\n",
    "dt1 = datetime(2006,11,21,16,30,tzinfo = gmt)\n",
    "dt1.dst()"
   ]
  },
  {
   "cell_type": "code",
   "execution_count": null,
   "metadata": {},
   "outputs": [],
   "source": [
    "gmt = GMT1()\n",
    "dt1 = datetime(2006,11,21,16,30,tzinfo = gmt)\n",
    "dt1.dst()\n",
    "dt1.utcoffset()\n",
    "dt2 = datetime(2006,6,14,13,0,tzinfo = gmt)\n",
    "dt2.dst()\n",
    "dt2.utcoffset()\n",
    "#convert datetime to another time zone\n",
    "dt3 = dt2.astimezone(GMT2())\n",
    "dt3"
   ]
  },
  {
   "cell_type": "code",
   "execution_count": 82,
   "metadata": {},
   "outputs": [
    {
     "data": {
      "text/plain": [
       "'The time is 12:10.'"
      ]
     },
     "execution_count": 82,
     "metadata": {},
     "output_type": "execute_result"
    }
   ],
   "source": [
    "from datetime import time, tzinfo, timedelta\n",
    "class GMT1(tzinfo):#继承导入的这个class的所有属性:\n",
    "    def utcoffset(self,dt):\n",
    "        return timedelta(hours = 1)\n",
    "    def dst(self,dt):\n",
    "        return timedelta(0)\n",
    "    def tzname(self,dt):\n",
    "        return \"Europe/Prague\"\n",
    "t = time(12,10,30,tzinfo = GMT1())\n",
    "gmt = GMT1()\n",
    "t.isoformat()\n",
    "t.dst()\n",
    "t.utcoffset()\n",
    "t.tzname()\n",
    "t.strftime(\"%H:%M:%S %Z\")\n",
    "'The time is {:%H:%M}.'.format(t)"
   ]
  },
  {
   "cell_type": "code",
   "execution_count": null,
   "metadata": {},
   "outputs": [],
   "source": []
  }
 ],
 "metadata": {
  "kernelspec": {
   "display_name": "Python 3",
   "language": "python",
   "name": "python3"
  },
  "language_info": {
   "codemirror_mode": {
    "name": "ipython",
    "version": 3
   },
   "file_extension": ".py",
   "mimetype": "text/x-python",
   "name": "python",
   "nbconvert_exporter": "python",
   "pygments_lexer": "ipython3",
   "version": "3.6.6"
  }
 },
 "nbformat": 4,
 "nbformat_minor": 2
}
