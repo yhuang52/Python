{
 "cells": [
  {
   "cell_type": "code",
   "execution_count": 7,
   "metadata": {},
   "outputs": [],
   "source": [
    "import sys\n",
    "sys.path.insert(0, '.')\n",
    "from pyspark import SparkContext, SparkConf\n",
    "import re\n"
   ]
  },
  {
   "cell_type": "code",
   "execution_count": 8,
   "metadata": {},
   "outputs": [],
   "source": [
    "def splitComma(line: str):\n",
    "    splits = Utils.COMMA_DELIMITER.split(line)\n",
    "    return \"{}, {}\".format(splits[1], splits[2])\n",
    "class Utils():\n",
    "    COMMA_DELIMITER = re.compile(''',(?=(?:[^\"]*\")*[^\"]*$)''')"
   ]
  },
  {
   "cell_type": "code",
   "execution_count": 10,
   "metadata": {},
   "outputs": [],
   "source": [
    "sc.stop()\n",
    "if __name__ == \"__main__\":\n",
    "    conf = SparkConf().setAppName(\"airports\").setMaster(\"local[*]\")\n",
    "    sc = SparkContext(conf = conf)\n",
    "    airports = sc.textFile(\"file:///C:/Users/yuxia/Documents/Pyhton_Dataset/airports.text\")\n",
    "    airportsInUSA = airports.filter(lambda line : Utils.COMMA_DELIMITER.split(line)[3] == \"\\\"United States\\\"\")\n",
    "    airportsNameAndCityNames = airportsInUSA.map(splitComma)\n",
    "    airportsNameAndCityNames.saveAsTextFile(\"file:///C:/Users/yuxia/Documents/Pyhton_Dataset/airports_usa.text\")\n"
   ]
  },
  {
   "cell_type": "code",
   "execution_count": null,
   "metadata": {},
   "outputs": [],
   "source": []
  }
 ],
 "metadata": {
  "kernelspec": {
   "display_name": "Python 3",
   "language": "python",
   "name": "python3"
  },
  "language_info": {
   "codemirror_mode": {
    "name": "ipython",
    "version": 3
   },
   "file_extension": ".py",
   "mimetype": "text/x-python",
   "name": "python",
   "nbconvert_exporter": "python",
   "pygments_lexer": "ipython3",
   "version": "3.6.6"
  }
 },
 "nbformat": 4,
 "nbformat_minor": 2
}
