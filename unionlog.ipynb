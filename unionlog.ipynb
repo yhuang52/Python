{
 "cells": [
  {
   "cell_type": "code",
   "execution_count": 35,
   "metadata": {},
   "outputs": [],
   "source": [
    "from pyspark import SparkContext, SparkConf\n",
    "\n",
    "def isNotHeader(line: str):\n",
    "    return not(line.startswith(\"host\") and \"bytes\" in line)"
   ]
  },
  {
   "cell_type": "code",
   "execution_count": 39,
   "metadata": {},
   "outputs": [],
   "source": [
    "if __name__ == \"__main__\": \n",
    "    sc.stop()\n",
    "    conf = SparkConf().setAppName(\"unionLogs\").setMaster(\"local[*]\")\n",
    "    sc = SparkContext(conf = conf)\n",
    "#     lines = sc.textFile(\"file:///C:/Users/yuxia/Documents/Pyhton_Dataset/word_count.text\")\n",
    "    july = sc.textFile(\"file:///C:/Users/yuxia/Documents/Pyhton_Dataset/nasa_19950701.tsv.txt\")\n",
    "    aug = sc.textFile(\"file:///C:/Users/yuxia/Documents/Pyhton_Dataset/nasa_19950801.tsv.txt\")\n",
    "    agg = july.union(aug)\n",
    "    agg_clean = agg.filter(isNotHeader)\n",
    "    sample = agg_clean.sample(withReplacement = True, fraction = 0.1)\n",
    "    sample.collect()\n",
    "    sample.saveAsTextFile(\"file:///C:/Users/yuxia/Documents/Pyhton_Dataset/nasa_clean.txt\")"
   ]
  },
  {
   "cell_type": "code",
   "execution_count": 6,
   "metadata": {},
   "outputs": [
    {
     "name": "stdout",
     "output_type": "stream",
     "text": [
      "Help on method textFile in module pyspark.context:\n",
      "\n",
      "textFile(name, minPartitions=None, use_unicode=True) method of pyspark.context.SparkContext instance\n",
      "    Read a text file from HDFS, a local file system (available on all\n",
      "    nodes), or any Hadoop-supported file system URI, and return it as an\n",
      "    RDD of Strings.\n",
      "    \n",
      "    If use_unicode is False, the strings will be kept as `str` (encoding\n",
      "    as `utf-8`), which is faster and smaller than unicode. (Added in\n",
      "    Spark 1.2)\n",
      "    \n",
      "    >>> path = os.path.join(tempdir, \"sample-text.txt\")\n",
      "    >>> with open(path, \"w\") as testFile:\n",
      "    ...    _ = testFile.write(\"Hello world!\")\n",
      "    >>> textFile = sc.textFile(path)\n",
      "    >>> textFile.collect()\n",
      "    ['Hello world!']\n",
      "\n"
     ]
    }
   ],
   "source": []
  }
 ],
 "metadata": {
  "kernelspec": {
   "display_name": "Python 3",
   "language": "python",
   "name": "python3"
  },
  "language_info": {
   "codemirror_mode": {
    "name": "ipython",
    "version": 3
   },
   "file_extension": ".py",
   "mimetype": "text/x-python",
   "name": "python",
   "nbconvert_exporter": "python",
   "pygments_lexer": "ipython3",
   "version": "3.6.6"
  }
 },
 "nbformat": 4,
 "nbformat_minor": 2
}
